{
 "cells": [
  {
   "cell_type": "markdown",
   "metadata": {},
   "source": [
    "All imports."
   ]
  },
  {
   "cell_type": "code",
   "execution_count": 139,
   "metadata": {},
   "outputs": [],
   "source": [
    "import networkx as nx\n",
    "import matplotlib.pyplot as plt\n",
    "import scipy\n",
    "import numpy as np"
   ]
  },
  {
   "cell_type": "markdown",
   "metadata": {},
   "source": [
    "Utility code."
   ]
  },
  {
   "cell_type": "code",
   "execution_count": 140,
   "metadata": {},
   "outputs": [],
   "source": [
    "#---TODO: add your functions that you'll use in the notebook repeatedly, if any\n",
    "  \n",
    "def degree_summary_and_distribution(G: nx.Graph):\n",
    "    # Degree of a Node: The number of edges connected to a node.\n",
    "    # Interpretation: A node's degree represents how many friends a person has on facebook.\n",
    "\n",
    "    #  - the lowest number of friends\n",
    "    #  - the highest number of friends\n",
    "    #  - the average number of friends\n",
    "    degrees = [d for _, d in G.degree()]\n",
    "    min_degree = np.min(degrees)\n",
    "    max_degree = np.max(degrees)\n",
    "    avg_degree = np.mean(degrees)\n",
    "\n",
    "    print(f\"Min Degree: {min_degree}\")\n",
    "    print(f\"Max Degree: {max_degree}\")\n",
    "    print(f\"Average Degree: {avg_degree}\")\n",
    "\n",
    "    # plot the degree distribution\n",
    "    degrees = [d for n, d in G.degree()]\n",
    "    plt.figure()\n",
    "    plt.hist(degrees, bins=range(1, max(degrees)+2), edgecolor='black', linewidth=0.2)\n",
    "    plt.title(\"Degree Distribution\")\n",
    "    plt.xlabel(\"Degree\")\n",
    "    plt.ylabel(\"Frequency\")\n",
    "    plt.show()\n",
    "\n",
    "\n",
    "def connectivity(G: nx.Graph):\n",
    "    is_connected = nx.is_connected(G)\n",
    "    if not is_connected:\n",
    "        # Connected Component: A group of nodes that are connected by paths.\n",
    "        # The connected components can indicate if the network is one big cluster or composed of small ones.\n",
    "        # Interpretation: Groups of friends isolated or interconnected.\n",
    "        connected_components = list(nx.connected_components(G))\n",
    "        num_connected_components = len(connected_components)\n",
    "        largest_component_size = max(len(c) for c in connected_components)\n",
    "        largest_cc = G.subgraph(max(connected_components, key=len))\n",
    "\n",
    "    else:\n",
    "        largest_component_size = len(G)\n",
    "        largest_cc = G\n",
    "        num_connected_components = 1\n",
    "\n",
    "    print(f\"The graph is connected: {is_connected}.\")\n",
    "    print(f\"Number of Connected Components: {num_connected_components}.\")\n",
    "    print(f\"Largest Component Size: {largest_component_size}.\")\n",
    "\n",
    "    # Diameter: the largest distance between any pair of nodes in the network.\n",
    "    # Interpretation: the longest \"friendship chain\" connecting two users.\n",
    "    diameter = nx.diameter(largest_cc) if nx.is_connected(largest_cc) else None\n",
    "    \n",
    "    print(f\"Diameter: {diameter}\")\n",
    "\n",
    "\n",
    "def clustering_coefficient_and_distribution_plot(G: nx.Graph):\n",
    "    # Clustering Coefficient: Measures how tightly connected a node’s neighbors are (how likely it is for 2 nodes with a common neighbor to be linked).\n",
    "    # Interpretation: How interconnected are on average the users. High clustering means high interaction between the friends of an user.\n",
    "    avg_clustering = nx.average_clustering(G)\n",
    "    \n",
    "    print(f\"Average Clustering Coefficient: {avg_clustering}\")\n",
    "\n",
    "    # Edge density: fraction of actual edges compared to the maximum possible edges.\n",
    "    # Used to determine if the clustering coefficient is high or not.\n",
    "    # NOTE: A low density means the network is sparse.\n",
    "    edge_density = nx.density(G)\n",
    "\n",
    "    print(f\"Edge Density: {edge_density}\")\n",
    "    print(f\"Clustering Coefficient is {\"high\" if avg_clustering > edge_density else \"low\"} compared to the edge density.\")\n",
    "\n",
    "    # plot the custering coefficient distribution\n",
    "    clustering_coeffs = list(nx.clustering(G).values())\n",
    "    plt.figure()\n",
    "    plt.hist(clustering_coeffs, bins=\"auto\", edgecolor='black', linewidth=0.2)\n",
    "    plt.title(\"Clustering Coefficient Distribution\")\n",
    "    plt.xlabel(\"Clustering Coefficient\")\n",
    "    plt.ylabel(\"Frequency\")\n",
    "    plt.show()\n",
    "\n",
    "\n",
    "def betweenness_centrality_distribution(G: nx.Graph):\n",
    "    # Betweenness Centrality: measures how often a node appears on shortest paths between other nodes.\n",
    "    # Interpretation: People with high betweeness are the connection between two separate groups. They transfer information between the groups.\n",
    "    \n",
    "    betweenness = list(nx.betweenness_centrality(G).values())\n",
    "\n",
    "    avg_betweenness = np.mean(betweenness)\n",
    "    max_betweenness = np.max(betweenness)\n",
    "\n",
    "    print(f\"Average Betweenness Centrality: {avg_betweenness}\")\n",
    "    print(f\"Max Betweenness Centrality: {max_betweenness}\")\n",
    "\n",
    "\n",
    "    # Plot distribution\n",
    "    plt.figure()\n",
    "    plt.hist(betweenness, bins=\"auto\", edgecolor=\"black\", linewidth=0.2)\n",
    "    plt.title(\"Betweenness Centrality Distribution\")\n",
    "    plt.xlabel(\"Betweenness Centrality\")\n",
    "    plt.ylabel(\"Frequency\")\n",
    "    # to diminish the big spikes in the plot \n",
    "    plt.yscale(\"log\")\n",
    "    plt.show()\n",
    "\n",
    "\n",
    "def shortest_path_length_and_plot(largest_cc: nx.Graph):\n",
    "    # Shortest path: minimum number of edges required to travel from one node to another.\n",
    "    # Interpretation: The degree of separation between two users measured in friendships. \n",
    "    # NOTE: compare with no. nodes? \n",
    "    \n",
    "    avg_shortest_path_length = nx.average_shortest_path_length(largest_cc)\n",
    "\n",
    "    print(f\"Average Shortest Path Length: {avg_shortest_path_length}\")"
   ]
  },
  {
   "cell_type": "markdown",
   "metadata": {},
   "source": [
    "# First Network - Original"
   ]
  },
  {
   "cell_type": "markdown",
   "metadata": {},
   "source": [
    "### Network description"
   ]
  },
  {
   "cell_type": "markdown",
   "metadata": {},
   "source": [
    "### Network Creation"
   ]
  },
  {
   "cell_type": "markdown",
   "metadata": {},
   "source": [
    "### Network Properties"
   ]
  },
  {
   "cell_type": "markdown",
   "metadata": {},
   "source": [
    "#### Connectivity"
   ]
  },
  {
   "cell_type": "code",
   "execution_count": 141,
   "metadata": {},
   "outputs": [
    {
     "name": "stdout",
     "output_type": "stream",
     "text": [
      "The graph is connected: True.\n",
      "Number of Connected Components: 1.\n",
      "Largest Component Size: 962.\n",
      "Diameter: 6\n"
     ]
    }
   ],
   "source": [
    "#TODO: move this to creation\n",
    "matrix = scipy.io.mmread(\"networks\\\\socfb-Reed98.mtx\")\n",
    "\n",
    "# convert the matrix to a NetworkX graph\n",
    "G = nx.from_scipy_sparse_array(matrix)\n",
    "#---------\n",
    "\n",
    "connectivity(G)"
   ]
  },
  {
   "cell_type": "markdown",
   "metadata": {},
   "source": [
    "#### Degree distribution"
   ]
  },
  {
   "cell_type": "code",
   "execution_count": 142,
   "metadata": {},
   "outputs": [
    {
     "name": "stdout",
     "output_type": "stream",
     "text": [
      "Min Degree: 1\n",
      "Max Degree: 313\n",
      "Average Degree: 39.11018711018711\n"
     ]
    },
    {
     "data": {
      "image/png": "[encoded data removed]",
      "text/plain": [
       "<Figure size 640x480 with 1 Axes>"
      ]
     },
     "metadata": {},
     "output_type": "display_data"
    }
   ],
   "source": [
    "degree_summary_and_distribution(G)"
   ]
  },
  {
   "cell_type": "markdown",
   "metadata": {},
   "source": [
    "#### Betweeness Centrality Distribution"
   ]
  },
  {
   "cell_type": "code",
   "execution_count": 143,
   "metadata": {},
   "outputs": [
    {
     "name": "stdout",
     "output_type": "stream",
     "text": [
      "Average Betweenness Centrality: 0.0015223547709239695\n",
      "Max Betweenness Centrality: 0.09098269628720329\n"
     ]
    },
    {
     "data": {
      "image/png": "[encoded data removed]",
      "text/plain": [
       "<Figure size 640x480 with 1 Axes>"
      ]
     },
     "metadata": {},
     "output_type": "display_data"
    }
   ],
   "source": [
    "betweenness_centrality_distribution(G)"
   ]
  },
  {
   "cell_type": "markdown",
   "metadata": {},
   "source": [
    "#### Clustering Coefficient"
   ]
  },
  {
   "cell_type": "code",
   "execution_count": 144,
   "metadata": {},
   "outputs": [
    {
     "name": "stdout",
     "output_type": "stream",
     "text": [
      "Average Clustering Coefficient: 0.31836022727227925\n",
      "Edge Density: 0.04069738513026754\n",
      "Clustering Coefficient is high compared to the edge density.\n"
     ]
    },
    {
     "data": {
      "image/png": "[encoded data removed]",
      "text/plain": [
       "<Figure size 640x480 with 1 Axes>"
      ]
     },
     "metadata": {},
     "output_type": "display_data"
    }
   ],
   "source": [
    "clustering_coefficient_and_distribution_plot(G)"
   ]
  },
  {
   "cell_type": "markdown",
   "metadata": {},
   "source": [
    "#### Average Shortest Path"
   ]
  },
  {
   "cell_type": "code",
   "execution_count": 145,
   "metadata": {},
   "outputs": [
    {
     "name": "stdout",
     "output_type": "stream",
     "text": [
      "Average Shortest Path Length: 2.461460580087011\n"
     ]
    }
   ],
   "source": [
    "shortest_path_length_and_plot(G)"
   ]
  },
  {
   "cell_type": "markdown",
   "metadata": {},
   "source": [
    "### Vizualization"
   ]
  },
  {
   "cell_type": "markdown",
   "metadata": {},
   "source": [
    "### Important Nodes"
   ]
  }
 ],
 "metadata": {
  "kernelspec": {
   "display_name": ".venv",
   "language": "python",
   "name": "python3"
  },
  "language_info": {
   "codemirror_mode": {
    "name": "ipython",
    "version": 3
   },
   "file_extension": ".py",
   "mimetype": "text/x-python",
   "name": "python",
   "nbconvert_exporter": "python",
   "pygments_lexer": "ipython3",
   "version": "3.12.2"
  }
 },
 "nbformat": 4,
 "nbformat_minor": 2
}
